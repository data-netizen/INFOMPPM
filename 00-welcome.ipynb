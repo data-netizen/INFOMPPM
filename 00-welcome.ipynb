{
 "cells": [
  {
   "attachments": {},
   "cell_type": "markdown",
   "metadata": {},
   "source": [
    "# 👋 Welcome to your first INFOMPPM seminar 👋\n",
    "\n",
    "During the seminar session, we will first discuss how (public) values connect to recommender systems. You will then need to think about the data you would need to build a recommender system and how that poses opportunities but also risks for different values. We then turn to the basics of building a recommender in Python:\n",
    "- Non-personalised recommendations (ratings, seeded, confidence, support)\n",
    "- Implicit ratings\n",
    "- Running StreamlitThe activities aim for testing your knowledge about the readings, getting your code book running, extracting features from existing databases, and practising with core concepts.\n",
    "\n",
    "### Dataset\n",
    "The dataset you for this assignment will be the [Book-Crossing Dataset](http://www2.informatik.uni-freiburg.de/~cziegler/BX/) mined by [Cai-Nicolas Ziegler](http://dbis.informatik.uni-freiburg.de/team/ziegler/cai). \n",
    "\n",
    "The dataset:\n",
    "> ... a 4-week crawl (August / September 2004) from the Book-Crossing community with kind permission from Ron Hornbaker, CTO of Humankind Systems. Contains 278,858 users (anonymized but with demographic information) providing 1,149,780 ratings (explicit / implicit) about 271,379 books.\n",
    "\n",
    "While one could argue that the dataset is dated, it is a good starters dataset that will still offer you some challenges."
   ]
  }
 ],
 "metadata": {
  "kernelspec": {
   "display_name": "Python 3",
   "language": "python",
   "name": "python3"
  },
  "language_info": {
   "name": "python",
   "version": "3.8.0"
  },
  "orig_nbformat": 4,
  "vscode": {
   "interpreter": {
    "hash": "37c10f95d263926787ebf1d430d11186fc6b9bac835b8518e0b5006ed24f0c36"
   }
  }
 },
 "nbformat": 4,
 "nbformat_minor": 2
}
